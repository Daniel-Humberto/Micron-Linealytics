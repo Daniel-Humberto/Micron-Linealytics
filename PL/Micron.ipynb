{
 "cells": [
  {
   "cell_type": "code",
   "execution_count": null,
   "id": "initial_id",
   "metadata": {
    "ExecuteTime": {
     "end_time": "2025-04-21T18:02:41.042251Z",
     "start_time": "2025-04-21T18:02:40.699189Z"
    },
    "collapsed": true
   },
   "outputs": [
    {
     "ename": "",
     "evalue": "",
     "output_type": "error",
     "traceback": [
      "\u001b[1;31mLa ejecución de celdas con 'Python 3.12.3' requiere el paquete ipykernel.\n",
      "\u001b[1;31mInstale \"ipykernel\" en el entorno de Python. \n",
      "\u001b[1;31mComando: \"/bin/python3 -m pip install ipykernel -U --user --force-reinstall\""
     ]
    }
   ],
   "source": [
    "import pandas as pd\n",
    "import numpy as np\n",
    "from holidays.holiday_base import YearArg"
   ]
  },
  {
   "cell_type": "code",
   "execution_count": null,
   "id": "4c94155ae5ee8d29",
   "metadata": {
    "ExecuteTime": {
     "end_time": "2025-04-21T18:02:41.376526Z",
     "start_time": "2025-04-21T18:02:41.191772Z"
    }
   },
   "outputs": [],
   "source": [
    "Supply_Demand = pd.read_excel(\"Hackaton_DB_Final.xlsx\", sheet_name=\"Supply_Demand\",skiprows=2)"
   ]
  },
  {
   "cell_type": "code",
   "execution_count": null,
   "id": "dc101fb151003216",
   "metadata": {
    "ExecuteTime": {
     "end_time": "2025-04-21T18:02:41.813298Z",
     "start_time": "2025-04-21T18:02:41.741810Z"
    }
   },
   "outputs": [],
   "source": [
    "Boundary_Conditions = pd.read_excel(\"Hackaton_DB_Final.xlsx\", sheet_name=\"Boundary Conditions\")"
   ]
  },
  {
   "cell_type": "code",
   "execution_count": null,
   "id": "400b1483da6815c9",
   "metadata": {
    "ExecuteTime": {
     "end_time": "2025-04-21T18:03:33.798150Z",
     "start_time": "2025-04-21T18:03:33.775727Z"
    }
   },
   "outputs": [],
   "source": [
    "# Transpose the DataFrame\n",
    "Supply_Demand = Supply_Demand.transpose()\n",
    "Supply_Demand"
   ]
  },
  {
   "cell_type": "code",
   "execution_count": null,
   "id": "a387ccb62c94ab60",
   "metadata": {
    "ExecuteTime": {
     "end_time": "2025-04-21T18:06:54.635490Z",
     "start_time": "2025-04-21T18:06:54.554090Z"
    }
   },
   "outputs": [],
   "source": [
    "Boundary_Conditions = pd.read_excel(\"Hackaton_DB_Final.xlsx\", sheet_name=\"Boundary Conditions\",skiprows=1)"
   ]
  },
  {
   "cell_type": "code",
   "execution_count": null,
   "id": "46cf3621de453a1a",
   "metadata": {
    "ExecuteTime": {
     "end_time": "2025-04-21T18:06:55.280441Z",
     "start_time": "2025-04-21T18:06:55.261753Z"
    }
   },
   "outputs": [],
   "source": [
    "Boundary_Conditions= Boundary_Conditions.transpose()\n",
    "Boundary_Conditions"
   ]
  },
  {
   "cell_type": "code",
   "execution_count": null,
   "id": "d1d9250da79144c8",
   "metadata": {
    "ExecuteTime": {
     "end_time": "2025-04-21T18:12:08.275757Z",
     "start_time": "2025-04-21T18:12:08.211167Z"
    }
   },
   "outputs": [],
   "source": [
    "Yields = pd.read_excel(\"Hackaton_DB_Final.xlsx\", sheet_name=\"Yield\")\n",
    "Yields = Yields.transpose()\n",
    "Yields"
   ]
  },
  {
   "cell_type": "code",
   "execution_count": null,
   "id": "616d0870d05a4c06",
   "metadata": {
    "ExecuteTime": {
     "end_time": "2025-04-21T18:17:00.566336Z",
     "start_time": "2025-04-21T18:17:00.535711Z"
    }
   },
   "outputs": [],
   "source": [
    "Supply_Demand.to_csv(\"Supply_Demand.csv\", index=False)\n",
    "Boundary_Conditions.to_csv(\"Boundary_Conditions.csv\", index=False)\n",
    "Yields.to_csv(\"Yields.csv\", index=False)"
   ]
  },
  {
   "cell_type": "code",
   "execution_count": null,
   "id": "ef3a24aaa0d92e87",
   "metadata": {},
   "outputs": [],
   "source": []
  }
 ],
 "metadata": {
  "kernelspec": {
   "display_name": "Python 3",
   "language": "python",
   "name": "python3"
  },
  "language_info": {
   "codemirror_mode": {
    "name": "ipython",
    "version": 2
   },
   "file_extension": ".py",
   "mimetype": "text/x-python",
   "name": "python",
   "nbconvert_exporter": "python",
   "pygments_lexer": "ipython2",
   "version": "3.12.3"
  }
 },
 "nbformat": 4,
 "nbformat_minor": 5
}
